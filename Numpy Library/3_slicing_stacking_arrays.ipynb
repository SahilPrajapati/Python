{
 "cells": [
  {
   "cell_type": "code",
   "execution_count": 1,
   "metadata": {},
   "outputs": [
    {
     "data": {
      "text/plain": [
       "array([0, 1, 2, 3, 4, 5])"
      ]
     },
     "execution_count": 1,
     "metadata": {},
     "output_type": "execute_result"
    }
   ],
   "source": [
    "import numpy as np\n",
    "\n",
    "n = np.arange(6)\n",
    "n"
   ]
  },
  {
   "cell_type": "code",
   "execution_count": 6,
   "metadata": {},
   "outputs": [
    {
     "name": "stdout",
     "output_type": "stream",
     "text": [
      "0 5 \n",
      " [0 1 2] [0 1 2 3 4]\n"
     ]
    }
   ],
   "source": [
    "#accessing..\n",
    "print(n[0],n[-1],'\\n',n[0:3],n[0:-1])"
   ]
  },
  {
   "cell_type": "code",
   "execution_count": 11,
   "metadata": {},
   "outputs": [
    {
     "name": "stdout",
     "output_type": "stream",
     "text": [
      "[[1 2 3]\n",
      " [4 5 6]\n",
      " [7 8 9]]\n"
     ]
    }
   ],
   "source": [
    "#2D\n",
    "\n",
    "a = np.arange(1,10).reshape(3,3)\n",
    "print (a)"
   ]
  },
  {
   "cell_type": "code",
   "execution_count": 18,
   "metadata": {},
   "outputs": [
    {
     "name": "stdout",
     "output_type": "stream",
     "text": [
      "6\n",
      "\n",
      "\n",
      "[5 8]\n",
      "\n",
      "\n",
      "[5 6]\n",
      "\n",
      "\n",
      "[[5 6]\n",
      " [8 9]]\n"
     ]
    }
   ],
   "source": [
    "#accessing...\n",
    "print (a[1,2])\n",
    "print('\\n')\n",
    "print(a[1:3,1])\n",
    "print('\\n')\n",
    "print(a[1,1:3])\n",
    "print('\\n')\n",
    "print(a[1:3,1:3])\n"
   ]
  },
  {
   "cell_type": "code",
   "execution_count": 24,
   "metadata": {},
   "outputs": [
    {
     "name": "stdout",
     "output_type": "stream",
     "text": [
      "1\n",
      "2\n",
      "3\n",
      "4\n",
      "5\n",
      "6\n",
      "7\n",
      "8\n",
      "9\n",
      "\n",
      "\n",
      "1\n",
      "2\n",
      "3\n",
      "4\n",
      "5\n",
      "6\n",
      "7\n",
      "8\n",
      "9\n",
      "\n",
      "\n",
      "1\n",
      "2\n",
      "3\n",
      "4\n",
      "5\n",
      "6\n",
      "7\n",
      "8\n",
      "9\n"
     ]
    }
   ],
   "source": [
    "#Traversing...\n",
    "for row in a:\n",
    "    for column in row:\n",
    "        print(column)\n",
    "        \n",
    "print('\\n')\n",
    "\n",
    "#OR\n",
    "\n",
    "for cell in a.flat:\n",
    "    print(cell)\n",
    "    \n",
    "#OR  \n",
    "print('\\n')   \n",
    "for cell in a.ravel():\n",
    "    print(cell)"
   ]
  },
  {
   "cell_type": "code",
   "execution_count": 30,
   "metadata": {},
   "outputs": [
    {
     "name": "stdout",
     "output_type": "stream",
     "text": [
      "[[0 1]\n",
      " [2 3]\n",
      " [4 5]] \n",
      "\n",
      "[[ 6  7]\n",
      " [ 8  9]\n",
      " [10 11]] \n",
      "\n",
      "[[ 0  1]\n",
      " [ 2  3]\n",
      " [ 4  5]\n",
      " [ 6  7]\n",
      " [ 8  9]\n",
      " [10 11]] \n",
      "\n",
      "[[ 0  1  6  7]\n",
      " [ 2  3  8  9]\n",
      " [ 4  5 10 11]] \n",
      "\n"
     ]
    }
   ],
   "source": [
    "#Stacking\n",
    "a = np.arange(6).reshape(3,2)\n",
    "b = np.arange(6,12).reshape(3,2)\n",
    "\n",
    "print(a,'\\n')\n",
    "print(b,'\\n')\n",
    "\n",
    "\n",
    "#vertically\n",
    "print(np.vstack((a,b)),'\\n')\n",
    "\n",
    "#horizontally\n",
    "print(np.hstack((a,b)),'\\n')\n"
   ]
  },
  {
   "cell_type": "code",
   "execution_count": 36,
   "metadata": {},
   "outputs": [
    {
     "name": "stdout",
     "output_type": "stream",
     "text": [
      "[array([[0],\n",
      "       [2],\n",
      "       [4]]), array([[1],\n",
      "       [3],\n",
      "       [5]])]\n",
      "[array([[0, 1]]), array([[2, 3]]), array([[4, 5]])]\n"
     ]
    }
   ],
   "source": [
    "#splitting...\n",
    "print(np.hsplit(a,2))\n",
    "print(np.vsplit(a,3))"
   ]
  }
 ],
 "metadata": {
  "kernelspec": {
   "display_name": "Python 3",
   "language": "python",
   "name": "python3"
  },
  "language_info": {
   "codemirror_mode": {
    "name": "ipython",
    "version": 3
   },
   "file_extension": ".py",
   "mimetype": "text/x-python",
   "name": "python",
   "nbconvert_exporter": "python",
   "pygments_lexer": "ipython3",
   "version": "3.6.5"
  }
 },
 "nbformat": 4,
 "nbformat_minor": 2
}

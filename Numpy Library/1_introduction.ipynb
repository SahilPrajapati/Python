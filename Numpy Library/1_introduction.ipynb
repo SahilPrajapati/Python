{
 "cells": [
  {
   "cell_type": "code",
   "execution_count": 11,
   "metadata": {},
   "outputs": [
    {
     "data": {
      "text/plain": [
       "array([1, 2, 3, 5, 3, 5, 2])"
      ]
     },
     "execution_count": 11,
     "metadata": {},
     "output_type": "execute_result"
    }
   ],
   "source": [
    "#creating a numpy array...\n",
    "import numpy as np\n",
    "arr = np.array([1,2,3,5,3,5,2,])\n",
    "arr"
   ]
  },
  {
   "cell_type": "code",
   "execution_count": 12,
   "metadata": {},
   "outputs": [
    {
     "name": "stdout",
     "output_type": "stream",
     "text": [
      "[1 2 3 5 3 5 2] \n",
      "\n",
      "1 3\n"
     ]
    }
   ],
   "source": [
    "#accessing\n",
    "\n",
    "print (arr,'\\n')\n",
    "\n",
    "print(arr[0],arr[2])"
   ]
  },
  {
   "cell_type": "code",
   "execution_count": 13,
   "metadata": {},
   "outputs": [
    {
     "name": "stdout",
     "output_type": "stream",
     "text": [
      "1\n",
      "2\n",
      "3\n",
      "5\n",
      "3\n",
      "5\n",
      "2\n"
     ]
    }
   ],
   "source": [
    "for i in arr:\n",
    "    print (i)"
   ]
  },
  {
   "cell_type": "code",
   "execution_count": 15,
   "metadata": {},
   "outputs": [
    {
     "name": "stdout",
     "output_type": "stream",
     "text": [
      "array size :  7\n",
      "item size :  4\n"
     ]
    }
   ],
   "source": [
    "#length\n",
    "print('array size : ',arr.size)\n",
    "print('item size : ',arr.itemsize)"
   ]
  },
  {
   "cell_type": "code",
   "execution_count": 18,
   "metadata": {},
   "outputs": [
    {
     "name": "stdout",
     "output_type": "stream",
     "text": [
      "Length in list:  28000\n",
      "Length in np.array:  4000\n"
     ]
    }
   ],
   "source": [
    "#comparison of memory required for np.array and list\n",
    "#LIST\n",
    "import sys\n",
    "l = range(1000)\n",
    "\n",
    "print ('Length in list: ',sys.getsizeof(1)*len(l))\n",
    "\n",
    "#NUMPY ARRAY\n",
    "a = np.arange(1000)\n",
    "print ('Length in np.array: ',a.size*a.itemsize)\n",
    "\n"
   ]
  },
  {
   "cell_type": "code",
   "execution_count": 31,
   "metadata": {},
   "outputs": [
    {
     "name": "stdout",
     "output_type": "stream",
     "text": [
      "Time taken by list :  279.6673774719238\n",
      "Time taken by np.array :  209.86557006835938\n"
     ]
    }
   ],
   "source": [
    "#comparison of time taken\n",
    "import time\n",
    "\n",
    "#LIST\n",
    "size = 100000\n",
    "\n",
    "l1 = range(size)\n",
    "l2 = range(size)\n",
    "\n",
    "start = time.time()\n",
    "result = [x+y for x,y in zip(l1,l2)]\n",
    "print ('Time taken by list : ',(time.time()-start)*10000)\n",
    "\n",
    "\n",
    "#NP.ARRAY\n",
    "start = time.time()\n",
    "a1 = np.arange(size)\n",
    "a2 = np.arange(size)\n",
    "\n",
    "result = a1 + a2\n",
    "print ('Time taken by np.array : ',(time.time()-start)*10000)\n",
    "\n"
   ]
  }
 ],
 "metadata": {
  "kernelspec": {
   "display_name": "Python 3",
   "language": "python",
   "name": "python3"
  },
  "language_info": {
   "codemirror_mode": {
    "name": "ipython",
    "version": 3
   },
   "file_extension": ".py",
   "mimetype": "text/x-python",
   "name": "python",
   "nbconvert_exporter": "python",
   "pygments_lexer": "ipython3",
   "version": "3.6.5"
  }
 },
 "nbformat": 4,
 "nbformat_minor": 2
}

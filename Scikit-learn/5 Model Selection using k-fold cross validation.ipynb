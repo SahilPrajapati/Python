{
 "cells": [
  {
   "cell_type": "code",
   "execution_count": 32,
   "metadata": {},
   "outputs": [],
   "source": [
    "import pandas as pd\n",
    "import numpy as np\n",
    "from sklearn.linear_model import LinearRegression\n",
    "\n",
    "data = pd.read_csv('http://www-bcf.usc.edu/~gareth/ISL/Advertising.csv',index_col = 0)"
   ]
  },
  {
   "cell_type": "code",
   "execution_count": 33,
   "metadata": {},
   "outputs": [
    {
     "data": {
      "text/plain": [
       "(200, 3)"
      ]
     },
     "execution_count": 33,
     "metadata": {},
     "output_type": "execute_result"
    }
   ],
   "source": [
    "feature_cols = ['TV','radio','newspaper']\n",
    "\n",
    "# Creating matrix X\n",
    "X = data[feature_cols]\n",
    "X.shape"
   ]
  },
  {
   "cell_type": "code",
   "execution_count": 34,
   "metadata": {},
   "outputs": [
    {
     "data": {
      "text/plain": [
       "(200,)"
      ]
     },
     "execution_count": 34,
     "metadata": {},
     "output_type": "execute_result"
    }
   ],
   "source": [
    "# creating vector y\n",
    "y = data['sales']\n",
    "y.shape"
   ]
  },
  {
   "cell_type": "code",
   "execution_count": 35,
   "metadata": {},
   "outputs": [
    {
     "name": "stdout",
     "output_type": "stream",
     "text": [
      "[3.56038438 3.29767522 2.08943356 2.82474283 1.3027754  1.74163618\n",
      " 8.17338214 2.11409746 3.04273109 2.45281793]\n",
      "[1.88689808 1.81595022 1.44548731 1.68069713 1.14139187 1.31971064\n",
      " 2.85891276 1.45399362 1.7443426  1.56614748]\n",
      "1.6913531708051792\n"
     ]
    }
   ],
   "source": [
    "from sklearn.cross_validation import cross_val_score\n",
    "\n",
    "linReg = LinearRegression()\n",
    "\n",
    "scores = cross_val_score(linReg,X,y,cv = 10,scoring = 'mean_squared_error') # minus is put because values are coming negative\n",
    "\n",
    "MSE = -scores # mean squared error\n",
    "print(MSE)\n",
    "\n",
    "RMSE = np.sqrt(MSE) #root mean squared eror\n",
    "\n",
    "print(RMSE)\n",
    "print(RMSE.mean())"
   ]
  },
  {
   "cell_type": "code",
   "execution_count": null,
   "metadata": {},
   "outputs": [],
   "source": []
  },
  {
   "cell_type": "code",
   "execution_count": 36,
   "metadata": {},
   "outputs": [
    {
     "data": {
      "text/plain": [
       "(200, 2)"
      ]
     },
     "execution_count": 36,
     "metadata": {},
     "output_type": "execute_result"
    }
   ],
   "source": [
    "feature_colsNew = ['TV','radio']  # This time not taking the newspaper feature\n",
    "\n",
    "# Creating matrix X\n",
    "XNew = data[feature_colsNew]\n",
    "XNew.shape"
   ]
  },
  {
   "cell_type": "code",
   "execution_count": 37,
   "metadata": {},
   "outputs": [
    {
     "data": {
      "text/plain": [
       "(200,)"
      ]
     },
     "execution_count": 37,
     "metadata": {},
     "output_type": "execute_result"
    }
   ],
   "source": [
    "# creating vector y\n",
    "yNew = data['sales']\n",
    "yNew.shape"
   ]
  },
  {
   "cell_type": "code",
   "execution_count": 38,
   "metadata": {},
   "outputs": [
    {
     "name": "stdout",
     "output_type": "stream",
     "text": [
      "[3.38264572 3.28736055 2.09185507 2.81784389 1.27311083 1.74391853\n",
      " 8.0006111  2.07650936 3.03635301 2.4289835 ]\n",
      "[1.83919703 1.81310798 1.44632468 1.67864347 1.12832213 1.32057507\n",
      " 2.82853515 1.44100984 1.74251342 1.55851965]\n",
      "1.6796748419090766\n"
     ]
    }
   ],
   "source": [
    "from sklearn.cross_validation import cross_val_score\n",
    "\n",
    "linRegNew = LinearRegression()\n",
    "\n",
    "scoresNew = cross_val_score(linRegNew,XNew,yNew,cv = 10,scoring = 'mean_squared_error') # minus is put because values are coming negative\n",
    "\n",
    "MSENew = -scoresNew # mean squared error\n",
    "print(MSENew)\n",
    "\n",
    "RMSENew = np.sqrt(MSENew) #root mean squared eror\n",
    "\n",
    "print(RMSENew)\n",
    "print(RMSENew.mean())"
   ]
  },
  {
   "cell_type": "markdown",
   "metadata": {},
   "source": [
    "So if we exclude the newspaper feature then the RMSE is lower therefore excluding the newspaper feature is better option"
   ]
  },
  {
   "cell_type": "code",
   "execution_count": null,
   "metadata": {},
   "outputs": [],
   "source": []
  }
 ],
 "metadata": {
  "kernelspec": {
   "display_name": "Python 3",
   "language": "python",
   "name": "python3"
  },
  "language_info": {
   "codemirror_mode": {
    "name": "ipython",
    "version": 3
   },
   "file_extension": ".py",
   "mimetype": "text/x-python",
   "name": "python",
   "nbconvert_exporter": "python",
   "pygments_lexer": "ipython3",
   "version": "3.6.5"
  }
 },
 "nbformat": 4,
 "nbformat_minor": 2
}
